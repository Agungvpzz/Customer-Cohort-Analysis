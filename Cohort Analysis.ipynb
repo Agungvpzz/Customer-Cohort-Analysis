{
 "cells": [
  {
   "cell_type": "markdown",
   "id": "06f6e160",
   "metadata": {
    "ExecuteTime": {
     "end_time": "2024-05-22T05:56:11.461911Z",
     "start_time": "2024-05-22T05:56:11.452314Z"
    },
    "deletable": false,
    "editable": false,
    "run_control": {
     "frozen": true
    }
   },
   "source": [
    "## Data: Online Retail II"
   ]
  },
  {
   "cell_type": "markdown",
   "id": "76a404d6",
   "metadata": {
    "deletable": false,
    "editable": false,
    "run_control": {
     "frozen": true
    }
   },
   "source": [
    "This Online Retail II data set contains all the transactions occurring for a UK-based and registered, non-store online retail between 01/12/2009 and 09/12/2011.The company mainly sells unique all-occasion gift-ware. Many customers of the company are wholesalers.\n",
    "\n",
    "The dataset can be accessed at the following link: https://www.kaggle.com/datasets/mashlyn/online-retail-ii-uci/"
   ]
  },
  {
   "cell_type": "markdown",
   "id": "6823acbc",
   "metadata": {
    "deletable": false,
    "editable": false,
    "run_control": {
     "frozen": true
    }
   },
   "source": [
    "Attribute Information:\n",
    "\n",
    "- InvoiceNo: Invoice number. Nominal. A 6-digit integral number uniquely assigned to each transaction. If this code starts with the letter 'c', it indicates a cancellation.\n",
    "- StockCode: Product (item) code. Nominal. A 5-digit integral number uniquely assigned to each distinct product.\n",
    "- Description: Product (item) name. Nominal.\n",
    "- Quantity: The quantities of each product (item) per transaction. Numeric.\n",
    "- InvoiceDate: Invice date and time. Numeric. The day and time when a transaction was generated.\n",
    "- UnitPrice: Unit price. Numeric. Product price per unit in sterling (Â£).\n",
    "- CustomerID: Customer number. Nominal. A 5-digit integral number uniquely assigned to each customer.\n",
    "- Country: Country name. Nominal. The name of the country where a customer resides."
   ]
  },
  {
   "cell_type": "markdown",
   "id": "0c1bedbc",
   "metadata": {
    "ExecuteTime": {
     "end_time": "2024-05-22T05:57:21.095965Z",
     "start_time": "2024-05-22T05:57:21.090462Z"
    },
    "deletable": false,
    "editable": false,
    "run_control": {
     "frozen": true
    }
   },
   "source": [
    "## Environment Setup"
   ]
  },
  {
   "cell_type": "code",
   "execution_count": null,
   "id": "ff1730b4",
   "metadata": {
    "ExecuteTime": {
     "end_time": "2024-05-23T10:34:06.327821Z",
     "start_time": "2024-05-23T10:34:03.705943Z"
    },
    "deletable": false,
    "editable": false
   },
   "outputs": [],
   "source": [
    "import os\n",
    "\n",
    "import pandas as pd\n",
    "import numpy as np\n",
    "\n",
    "import plotly.express as px\n",
    "import plotly.graph_objects as go\n",
    "import matplotlib.pyplot as plt\n",
    "\n",
    "from datetime import datetime\n",
    "from dateutil import relativedelta\n",
    "\n",
    "from collections import Counter\n",
    "\n",
    "pd.options.display.float_format = '{:.4f}'.format\n",
    "pd.set_option('display.max_rows', 10)"
   ]
  },
  {
   "cell_type": "code",
   "execution_count": null,
   "id": "fb9f1af9",
   "metadata": {
    "ExecuteTime": {
     "end_time": "2024-05-23T10:34:07.510689Z",
     "start_time": "2024-05-23T10:34:07.499720Z"
    },
    "deletable": false,
    "editable": false
   },
   "outputs": [],
   "source": [
    "import warnings\n",
    "\n",
    "# Suppress FutureWarning from plotly\n",
    "warnings.filterwarnings(\"ignore\", category=FutureWarning, module=\"_plotly_utils\")\n",
    "warnings.filterwarnings(\"ignore\", category=FutureWarning, module=\"plotly\")"
   ]
  },
  {
   "cell_type": "code",
   "execution_count": null,
   "id": "8ea9b9d5",
   "metadata": {
    "ExecuteTime": {
     "end_time": "2024-05-23T10:34:08.205399Z",
     "start_time": "2024-05-23T10:34:08.170662Z"
    },
    "deletable": false,
    "editable": false
   },
   "outputs": [],
   "source": [
    "from Cohort.Cohort import Cohort\n",
    "from Cohort.CohortDate import CohortDate\n",
    "from Cohort.CohortPeriod import CohortPeriod\n",
    "from Cohort.AnalyzeCohortDate import AnalyzeCohortDate"
   ]
  },
  {
   "cell_type": "markdown",
   "id": "04347388",
   "metadata": {
    "ExecuteTime": {
     "end_time": "2024-01-17T10:00:20.440975Z",
     "start_time": "2024-01-17T10:00:20.435051Z"
    },
    "deletable": false,
    "editable": false,
    "run_control": {
     "frozen": true
    }
   },
   "source": [
    "## Data Preparation"
   ]
  },
  {
   "cell_type": "code",
   "execution_count": null,
   "id": "04bf1ed3",
   "metadata": {
    "ExecuteTime": {
     "end_time": "2024-05-23T10:34:10.341969Z",
     "start_time": "2024-05-23T10:34:10.313887Z"
    },
    "code_folding": [
     0
    ],
    "deletable": false,
    "editable": false
   },
   "outputs": [],
   "source": [
    "def get_uk_online_retail_2():\n",
    "    global COL_CUSTOMER_ID, COL_ORDER_DATE, COL_ORDER_ID, COL_VALUE, COL_QUANTITY\n",
    "    COL_CUSTOMER_ID = 'Customer ID'\n",
    "    COL_ORDER_DATE = 'InvoiceDate'\n",
    "    COL_ORDER_ID = 'Invoice'\n",
    "    COL_VALUE = 'Sales'\n",
    "    COL_QUANTITY = 'Quantity'\n",
    "    \n",
    "    # Load data\n",
    "    pathname = os.path.join(\"F:\\\\Data\\\\datas\", \"online_retail_II.csv\")\n",
    "    df = pd.read_csv(\n",
    "        pathname, \n",
    "        dtype = {'Customer ID': 'str', 'Invoice': str},\n",
    "        parse_dates = ['InvoiceDate']\n",
    "    )    \n",
    "    \n",
    "    # Drop missing values\n",
    "    df = df.dropna()\n",
    "    \n",
    "    # Ignore duplicate rows\n",
    "#     df.loc[df.duplicated()].shape\n",
    "    \n",
    "    # Drop the TEST stock code    \n",
    "    df = df[~df['StockCode'].str.contains('TEST')]\n",
    "    \n",
    "    # Drop 0 price\n",
    "    price_0 = df[df['Price'] == 0].index\n",
    "    df = df.drop(index=price_0)\n",
    "    \n",
    "    # Drop cancellation invoice or quantity with <= 0\n",
    "#     df = df[~df['Invoice'].str.startswith('C')]  \n",
    "    df = df[~df['Quantity'] <= 0]\n",
    "    \n",
    "    # Get Sales feature\n",
    "    df['Sales'] = df['Price'] * df['Quantity']\n",
    "    \n",
    "    return df"
   ]
  },
  {
   "cell_type": "code",
   "execution_count": null,
   "id": "cba25f52",
   "metadata": {
    "ExecuteTime": {
     "end_time": "2024-05-23T10:34:18.833329Z",
     "start_time": "2024-05-23T10:34:11.171179Z"
    },
    "deletable": false,
    "editable": false
   },
   "outputs": [],
   "source": [
    "df = get_uk_online_retail_2()"
   ]
  },
  {
   "cell_type": "markdown",
   "id": "f41f22e2",
   "metadata": {
    "ExecuteTime": {
     "end_time": "2024-01-17T10:00:26.491827Z",
     "start_time": "2024-01-17T10:00:26.485802Z"
    }
   },
   "source": [
    "## Cohort Analysis"
   ]
  },
  {
   "cell_type": "code",
   "execution_count": null,
   "id": "10f64a6b",
   "metadata": {
    "ExecuteTime": {
     "end_time": "2024-05-23T10:34:21.854893Z",
     "start_time": "2024-05-23T10:34:21.847912Z"
    },
    "deletable": false,
    "editable": false
   },
   "outputs": [],
   "source": [
    "MyCohort = Cohort(df, COL_CUSTOMER_ID, COL_ORDER_DATE, COL_ORDER_ID)"
   ]
  },
  {
   "cell_type": "markdown",
   "id": "f847ba12",
   "metadata": {
    "ExecuteTime": {
     "end_time": "2024-05-23T09:46:33.569914Z",
     "start_time": "2024-05-23T09:46:33.554954Z"
    },
    "deletable": false,
    "editable": false,
    "run_control": {
     "frozen": true
    }
   },
   "source": [
    "### Cohort Data"
   ]
  },
  {
   "cell_type": "markdown",
   "id": "f4d2e2f5",
   "metadata": {
    "ExecuteTime": {
     "end_time": "2024-05-22T20:26:25.539289Z",
     "start_time": "2024-05-22T20:26:25.521338Z"
    },
    "deletable": false,
    "editable": false,
    "run_control": {
     "frozen": true
    }
   },
   "source": [
    "#### How our cohort's data look like (in long rows format)"
   ]
  },
  {
   "cell_type": "markdown",
   "id": "0ae2f064",
   "metadata": {
    "deletable": false,
    "editable": false,
    "run_control": {
     "frozen": true
    }
   },
   "source": [
    "- Cohort\n",
    "    - A cohort is a group of customers who made their first purchase in the same period (e.g. month). \n",
    "    - This column indicates the month when the cohort was formed.\n",
    "- Period Date\n",
    "    - The specific month corresponding to the value of data. \n",
    "    - This indicates the month in which the value (e.g. Sales) were recorded.\n",
    "- Sales\n",
    "    - The specific value of data"
   ]
  },
  {
   "cell_type": "code",
   "execution_count": null,
   "id": "279a3dcd",
   "metadata": {
    "ExecuteTime": {
     "end_time": "2024-05-23T10:35:18.683964Z",
     "start_time": "2024-05-23T10:35:18.014898Z"
    },
    "deletable": false,
    "editable": false
   },
   "outputs": [],
   "source": [
    "MyCohort.get_cohort_agg(period_date='Q', aggs={'Sales': ['sum', 'mean'], COL_CUSTOMER_ID: ['unique', 'nunique']})"
   ]
  },
  {
   "cell_type": "code",
   "execution_count": null,
   "id": "9fc1b4a2",
   "metadata": {
    "ExecuteTime": {
     "end_time": "2024-05-23T10:36:04.635028Z",
     "start_time": "2024-05-23T10:36:04.032671Z"
    },
    "deletable": false,
    "editable": false
   },
   "outputs": [],
   "source": [
    "cohort_data = MyCohort.get_cohort_agg(col_value=COL_VALUE, period_date='Q', aggfunc='sum')\n",
    "cohort_data['Period Date'] = cohort_data['Period Date'].dt.to_timestamp(freq='Q', how='S')"
   ]
  },
  {
   "cell_type": "code",
   "execution_count": null,
   "id": "c38b4d18",
   "metadata": {
    "ExecuteTime": {
     "end_time": "2024-05-23T10:36:05.433838Z",
     "start_time": "2024-05-23T10:36:05.409331Z"
    },
    "deletable": false,
    "editable": false
   },
   "outputs": [],
   "source": [
    "cohort_data"
   ]
  },
  {
   "cell_type": "code",
   "execution_count": null,
   "id": "1be19b07",
   "metadata": {
    "ExecuteTime": {
     "end_time": "2024-05-23T10:36:10.293508Z",
     "start_time": "2024-05-23T10:36:08.059861Z"
    },
    "deletable": false,
    "editable": false
   },
   "outputs": [],
   "source": [
    "px.line(cohort_data, x='Period Date', y='Sales', color='Cohort', template='plotly_white', title = 'Sales Journey in each Cohort')"
   ]
  },
  {
   "cell_type": "markdown",
   "id": "a8ecbaca",
   "metadata": {
    "ExecuteTime": {
     "end_time": "2024-05-23T09:46:00.878245Z",
     "start_time": "2024-05-23T09:46:00.864282Z"
    }
   },
   "source": [
    "#### Get cohort feature"
   ]
  },
  {
   "cell_type": "code",
   "execution_count": null,
   "id": "08611b87",
   "metadata": {
    "ExecuteTime": {
     "end_time": "2024-05-23T09:44:08.527261Z",
     "start_time": "2024-05-23T09:44:07.709616Z"
    },
    "deletable": false,
    "editable": false
   },
   "outputs": [],
   "source": [
    "MyCohort.get_members_cohort(period_date='M', period_date_step='M')"
   ]
  },
  {
   "cell_type": "markdown",
   "id": "5ef7db33",
   "metadata": {
    "ExecuteTime": {
     "end_time": "2024-05-23T09:46:20.052418Z",
     "start_time": "2024-05-23T09:46:20.044441Z"
    },
    "deletable": false,
    "editable": false,
    "run_control": {
     "frozen": true
    }
   },
   "source": [
    "#### Get Summary Cohort"
   ]
  },
  {
   "cell_type": "code",
   "execution_count": null,
   "id": "a24d173c",
   "metadata": {
    "ExecuteTime": {
     "end_time": "2024-05-23T10:37:39.481136Z",
     "start_time": "2024-05-23T10:37:39.072833Z"
    },
    "deletable": false,
    "editable": false
   },
   "outputs": [],
   "source": [
    "MyCohort.get_cohort_summary('Sales')"
   ]
  },
  {
   "cell_type": "code",
   "execution_count": null,
   "id": "ac38b2fd",
   "metadata": {
    "ExecuteTime": {
     "end_time": "2024-05-23T10:37:59.505328Z",
     "start_time": "2024-05-23T10:37:58.352913Z"
    },
    "deletable": false,
    "editable": false
   },
   "outputs": [],
   "source": [
    "MyCohort.get_top_contributors('Sales')"
   ]
  },
  {
   "cell_type": "markdown",
   "id": "4980ae52",
   "metadata": {
    "ExecuteTime": {
     "end_time": "2024-01-17T15:36:16.200944Z",
     "start_time": "2024-01-17T15:36:16.188973Z"
    },
    "deletable": false,
    "editable": false,
    "heading_collapsed": true,
    "run_control": {
     "frozen": true
    }
   },
   "source": [
    "### Cohort Date Table"
   ]
  },
  {
   "cell_type": "code",
   "execution_count": null,
   "id": "80c002cb",
   "metadata": {
    "ExecuteTime": {
     "end_time": "2024-05-23T03:04:55.788534Z",
     "start_time": "2024-05-23T03:04:55.771082Z"
    },
    "deletable": false,
    "editable": false,
    "hidden": true
   },
   "outputs": [],
   "source": [
    "MyCohortDate = CohortDate(df, COL_CUSTOMER_ID, COL_ORDER_DATE, COL_ORDER_ID)"
   ]
  },
  {
   "cell_type": "code",
   "execution_count": null,
   "id": "e1a3684d",
   "metadata": {
    "ExecuteTime": {
     "end_time": "2024-05-23T03:04:56.792032Z",
     "start_time": "2024-05-23T03:04:56.311909Z"
    },
    "deletable": false,
    "editable": false,
    "hidden": true
   },
   "outputs": [],
   "source": [
    "MyCohortDate.get_table('Sales', period_date='Q')"
   ]
  },
  {
   "cell_type": "code",
   "execution_count": null,
   "id": "1ba47e39",
   "metadata": {
    "ExecuteTime": {
     "end_time": "2024-05-23T03:04:58.552640Z",
     "start_time": "2024-05-23T03:04:57.662300Z"
    },
    "deletable": false,
    "editable": false,
    "hidden": true
   },
   "outputs": [],
   "source": [
    "MyCohortDate.get_pivot('Sales', period_date='Q')"
   ]
  },
  {
   "cell_type": "code",
   "execution_count": null,
   "id": "4a73ebcd",
   "metadata": {
    "ExecuteTime": {
     "end_time": "2024-05-23T03:22:22.883453Z",
     "start_time": "2024-05-23T03:22:22.863373Z"
    },
    "deletable": false,
    "editable": false,
    "hidden": true
   },
   "outputs": [],
   "source": [
    "myCohort = AnalyzeCohortDate(df, COL_CUSTOMER_ID, COL_ORDER_DATE, COL_ORDER_ID)"
   ]
  },
  {
   "cell_type": "code",
   "execution_count": null,
   "id": "e4b702c0",
   "metadata": {
    "ExecuteTime": {
     "end_time": "2024-05-23T03:22:24.166118Z",
     "start_time": "2024-05-23T03:22:23.463256Z"
    },
    "deletable": false,
    "editable": false,
    "hidden": true
   },
   "outputs": [],
   "source": [
    "myCohort.get_active_customers('M')"
   ]
  },
  {
   "cell_type": "code",
   "execution_count": null,
   "id": "0594a408",
   "metadata": {
    "ExecuteTime": {
     "end_time": "2024-05-23T03:22:30.111791Z",
     "start_time": "2024-05-23T03:22:28.026998Z"
    },
    "deletable": false,
    "editable": false,
    "hidden": true
   },
   "outputs": [],
   "source": [
    "myCohort.get_inactive_customers('Sales', latest_active_period=3, show_contributions=True)"
   ]
  },
  {
   "cell_type": "markdown",
   "id": "07744e86",
   "metadata": {
    "ExecuteTime": {
     "end_time": "2024-01-17T15:37:53.829332Z",
     "start_time": "2024-01-17T15:37:53.813375Z"
    },
    "deletable": false,
    "editable": false
   },
   "source": [
    "###  Cohort Period Table"
   ]
  },
  {
   "cell_type": "code",
   "execution_count": null,
   "id": "0ce138ea",
   "metadata": {
    "ExecuteTime": {
     "end_time": "2024-05-23T03:24:21.873689Z",
     "start_time": "2024-05-23T03:24:21.864713Z"
    },
    "deletable": false,
    "editable": false
   },
   "outputs": [],
   "source": [
    "MyCohortPeriod = CohortPeriod(df, COL_CUSTOMER_ID, COL_ORDER_DATE, COL_ORDER_ID)"
   ]
  },
  {
   "cell_type": "code",
   "execution_count": null,
   "id": "8219a3e1",
   "metadata": {
    "ExecuteTime": {
     "end_time": "2024-05-23T03:24:23.241454Z",
     "start_time": "2024-05-23T03:24:22.584208Z"
    },
    "deletable": false,
    "editable": false
   },
   "outputs": [],
   "source": [
    "MyCohortPeriod.get_table(COL_VALUE, period_date='Q')"
   ]
  },
  {
   "cell_type": "code",
   "execution_count": null,
   "id": "266193ad",
   "metadata": {
    "ExecuteTime": {
     "end_time": "2024-05-23T03:24:27.667617Z",
     "start_time": "2024-05-23T03:24:25.991225Z"
    },
    "deletable": false,
    "editable": false
   },
   "outputs": [],
   "source": [
    "MyCohortPeriod.get_pivot(COL_VALUE, period_date='Q', period_date_step='M')"
   ]
  },
  {
   "cell_type": "markdown",
   "id": "831f9944",
   "metadata": {
    "ExecuteTime": {
     "end_time": "2024-05-22T20:16:19.701512Z",
     "start_time": "2024-05-22T20:16:19.684558Z"
    },
    "deletable": false,
    "editable": false,
    "run_control": {
     "frozen": true
    }
   },
   "source": [
    "## Report"
   ]
  },
  {
   "cell_type": "code",
   "execution_count": null,
   "id": "e1748986",
   "metadata": {
    "deletable": false,
    "editable": false
   },
   "outputs": [],
   "source": [
    "cohort_data_2009_12 = cohort_data[cohort_data['Cohort'] == '2009-12'].copy()\n",
    "cohort_data_2009_12['Period Date'] = cohort_data_2009_12['Period Date'].dt.to_timestamp(freq='M', how='S')"
   ]
  },
  {
   "cell_type": "markdown",
   "id": "a7fa5c29",
   "metadata": {
    "ExecuteTime": {
     "end_time": "2024-05-23T03:00:58.527347Z",
     "start_time": "2024-05-23T03:00:58.512387Z"
    },
    "deletable": false,
    "editable": false,
    "heading_collapsed": true,
    "run_control": {
     "frozen": true
    }
   },
   "source": [
    "### Cohort Compositions"
   ]
  },
  {
   "cell_type": "markdown",
   "id": "6b4cd5e9",
   "metadata": {
    "ExecuteTime": {
     "end_time": "2024-05-23T03:01:06.865173Z",
     "start_time": "2024-05-23T03:01:06.851211Z"
    },
    "deletable": false,
    "editable": false,
    "heading_collapsed": true,
    "run_control": {
     "frozen": true
    }
   },
   "source": [
    "### Retention Heatmap"
   ]
  }
 ],
 "metadata": {
  "kernelspec": {
   "display_name": "Python 3 (ipykernel)",
   "language": "python",
   "name": "python3"
  },
  "language_info": {
   "codemirror_mode": {
    "name": "ipython",
    "version": 3
   },
   "file_extension": ".py",
   "mimetype": "text/x-python",
   "name": "python",
   "nbconvert_exporter": "python",
   "pygments_lexer": "ipython3",
   "version": "3.9.12"
  },
  "toc": {
   "base_numbering": 1,
   "nav_menu": {},
   "number_sections": true,
   "sideBar": true,
   "skip_h1_title": false,
   "title_cell": "Table of Contents",
   "title_sidebar": "Contents",
   "toc_cell": false,
   "toc_position": {},
   "toc_section_display": true,
   "toc_window_display": false
  },
  "varInspector": {
   "cols": {
    "lenName": 16,
    "lenType": 16,
    "lenVar": 40
   },
   "kernels_config": {
    "python": {
     "delete_cmd_postfix": "",
     "delete_cmd_prefix": "del ",
     "library": "var_list.py",
     "varRefreshCmd": "print(var_dic_list())"
    },
    "r": {
     "delete_cmd_postfix": ") ",
     "delete_cmd_prefix": "rm(",
     "library": "var_list.r",
     "varRefreshCmd": "cat(var_dic_list()) "
    }
   },
   "types_to_exclude": [
    "module",
    "function",
    "builtin_function_or_method",
    "instance",
    "_Feature"
   ],
   "window_display": false
  }
 },
 "nbformat": 4,
 "nbformat_minor": 5
}
